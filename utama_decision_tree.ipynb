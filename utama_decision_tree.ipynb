{
  "nbformat": 4,
  "nbformat_minor": 0,
  "metadata": {
    "colab": {
      "provenance": []
    },
    "kernelspec": {
      "name": "python3",
      "display_name": "Python 3"
    }
  },
  "cells": [
    {
      "cell_type": "markdown",
      "metadata": {
        "id": "r3cas2_1T98w"
      },
      "source": [
        "# Decision Tree Regression"
      ]
    },
    {
      "cell_type": "markdown",
      "metadata": {
        "id": "IODliia6U1xO"
      },
      "source": [
        "## Importing the libraries"
      ]
    },
    {
      "cell_type": "code",
      "metadata": {
        "id": "y98nA5UdU6Hf"
      },
      "source": [
        "import numpy as np\n",
        "import matplotlib.pyplot as plt\n",
        "import pandas as pd"
      ],
      "execution_count": null,
      "outputs": []
    },
    {
      "cell_type": "markdown",
      "metadata": {
        "id": "jpjZ43YlU8eI"
      },
      "source": [
        "## Importing the dataset\n",
        "\n",
        "\n"
      ]
    },
    {
      "cell_type": "code",
      "metadata": {
        "id": "pLVaXoYVU_Uy"
      },
      "source": [
        "# df = pd.read_csv('UTAMA-NO-IMPUTATION-AGUST-SEPT-OKT.csv', encoding='unicode_escape')\n",
        "df = pd.read_csv('UTAMA-IMPUTATION-AGUST-SEPT-OKT.csv', encoding='unicode_escape')\n",
        "X = df.iloc[:, :-1].values\n",
        "y = df.iloc[:, -1].values"
      ],
      "execution_count": null,
      "outputs": []
    },
    {
      "cell_type": "code",
      "source": [
        "# df_BULAN = pd.read_csv('UTAMA-NO-IMPUTATION-NOV.csv', encoding='unicode_escape')\n",
        "# df_BULAN = pd.read_csv('UTAMA-NO-IMPUTATION-DELETION-NOV.csv', encoding='unicode_escape')\n",
        "df_BULAN = pd.read_csv('UTAMA-IMPUTATION-NOV.csv', encoding='unicode_escape')\n",
        "X_BULAN_test = df_BULAN.iloc[:, :-1].values\n",
        "y_BULAN_test = df_BULAN.iloc[:, -1].values"
      ],
      "metadata": {
        "id": "Qy2Bx-D97_8k"
      },
      "execution_count": null,
      "outputs": []
    },
    {
      "cell_type": "markdown",
      "metadata": {
        "id": "tPJXMyyUJbWn"
      },
      "source": [
        "## Splitting the dataset into the Training set and Test set"
      ]
    },
    {
      "cell_type": "code",
      "metadata": {
        "id": "rFOzpjaiJd5B"
      },
      "source": [
        "from sklearn.model_selection import train_test_split\n",
        "# X_train, X_test, y_train, y_test = train_test_split(X, y, test_size = 0.2, random_state = 0)\n",
        "X_train, X_test, y_train, y_test = train_test_split(X, y, test_size = 0.2, random_state = 0)"
      ],
      "execution_count": null,
      "outputs": []
    },
    {
      "cell_type": "markdown",
      "metadata": {
        "id": "g16qFkFQVC35"
      },
      "source": [
        "## Training the Decision Tree Regression model on the Training set"
      ]
    },
    {
      "cell_type": "code",
      "source": [
        "criterions = [\"squared_error\", \"absolute_error\"]\n",
        "maxDepths = [i for i in range(1,21)]"
      ],
      "metadata": {
        "id": "yOvXA4yMNfQT"
      },
      "execution_count": null,
      "outputs": []
    },
    {
      "cell_type": "code",
      "metadata": {
        "id": "SLDKyv1SVUqS"
      },
      "source": [
        "from sklearn.tree import DecisionTreeRegressor\n",
        "from sklearn.metrics import r2_score\n",
        "from sklearn.metrics import mean_absolute_error\n",
        "from sklearn.metrics import mean_squared_error\n",
        "\n",
        "bestR2 = 0\n",
        "\n",
        "print(\"criterion,max_depth,r2,RMSE,MSE,MAE,NOV,r2,RMSE,MSE,MAE\")\n",
        "\n",
        "for criterionFunction in criterions:\n",
        "  for maxDepth in maxDepths:\n",
        "    regressor = DecisionTreeRegressor(criterion=criterionFunction, max_depth=maxDepth)\n",
        "    regressor.fit(X_train, y_train)\n",
        "\n",
        "    y_pred = regressor.predict(X_test)\n",
        "    y_BULAN_pred = regressor.predict(X_BULAN_test)\n",
        "\n",
        "    test_data_R2 = r2_score(y_test, y_pred)\n",
        "    test_data_RMSE = mean_squared_error(y_test, y_pred, squared=False)\n",
        "    test_data_MSE = mean_squared_error(y_test, y_pred)\n",
        "    test_data_MAE = mean_absolute_error(y_test, y_pred)\n",
        "\n",
        "    new_test_data_R2 = r2_score(y_BULAN_test, y_BULAN_pred)\n",
        "    new_test_data_RMSE = mean_squared_error(y_BULAN_test, y_BULAN_pred, squared=False)\n",
        "    new_test_data_MSE = mean_squared_error(y_BULAN_test, y_BULAN_pred)\n",
        "    new_test_data_MAE = mean_absolute_error(y_BULAN_test, y_BULAN_pred)\n",
        "\n",
        "    print(f\"{criterionFunction},{maxDepth},{test_data_R2},{test_data_RMSE},{test_data_MSE},{test_data_MAE},,{new_test_data_R2},{new_test_data_RMSE},{new_test_data_MSE},{new_test_data_MAE}\")\n",
        "    # print(criterionFunction + \",max_depth=\" + str(maxDepth)  + \",\" + str(nowR2))\n",
        "    # print(nowR2)\n",
        "\n",
        "    if test_data_R2 > bestR2:\n",
        "      bestR2 = test_data_R2\n",
        "      bestCriterion = criterionFunction\n",
        "      bestMaxDepth = maxDepth\n",
        "\n",
        "print(\"criterion=\" + bestCriterion + \", max_depth=\" + str(bestMaxDepth) + \", R2=\" + str(bestR2) )\n",
        "\n"
      ],
      "execution_count": null,
      "outputs": []
    },
    {
      "cell_type": "markdown",
      "source": [
        "##Prediksi pada training data"
      ],
      "metadata": {
        "id": "rsKRnbK1Tc7o"
      }
    },
    {
      "cell_type": "code",
      "source": [
        "from sklearn.metrics import mean_absolute_error\n",
        "from sklearn.metrics import mean_squared_error\n",
        "\n",
        "regressor = DecisionTreeRegressor(criterion=\"absolute_error\", max_depth=5)\n",
        "regressor.fit(X_train, y_train)\n",
        "y_pred = regressor.predict(X_test)\n",
        "\n",
        "print(\"R2 = \", r2_score(y_test, y_pred))\n",
        "print(\"RMSE = \", mean_squared_error(y_test, y_pred, squared=False) )\n",
        "print(\"MSE = \", mean_squared_error(y_test, y_pred) )\n",
        "print(\"MAE = \", mean_absolute_error(y_test, y_pred) )"
      ],
      "metadata": {
        "id": "Vt3eJeGYZ7qK"
      },
      "execution_count": null,
      "outputs": []
    },
    {
      "cell_type": "markdown",
      "source": [
        "##Prediksi pada data sebenarnya"
      ],
      "metadata": {
        "id": "NRGMHAzpZMDG"
      }
    },
    {
      "cell_type": "code",
      "source": [
        "y_BULAN_pred = regressor.predict(X_BULAN_test)\n",
        "# r2_score(y_BULAN_test, y_BULAN_pred)\n",
        "\n",
        "print(\"R2 = \", r2_score(y_BULAN_test, y_BULAN_pred))\n",
        "print(\"RMSE = \", mean_squared_error(y_BULAN_test, y_BULAN_pred, squared=False) )\n",
        "print(\"MSE = \", mean_squared_error(y_BULAN_test, y_BULAN_pred) )\n",
        "print(\"MAE = \", mean_absolute_error(y_BULAN_test, y_BULAN_pred) )"
      ],
      "metadata": {
        "id": "org2a18mT5JZ"
      },
      "execution_count": null,
      "outputs": []
    },
    {
      "cell_type": "code",
      "source": [
        "data_x = list(range(1,len(y_BULAN_test)+1))\n",
        "import matplotlib.pyplot as plt\n",
        "jumlah_data_grafik = len(y_BULAN_test)\n",
        "# plt.figure(figsize=(12, 3))\n",
        "plt.figure(figsize=(12, 3))\n",
        "\n",
        "plt.axis((0,len(y_BULAN_test), 0,80))\n",
        "plt.xlabel(\"Data test ke-n\")\n",
        "plt.ylabel(\"Kadar air tanah (%)\")\n",
        "\n",
        "plt.plot(data_x[:jumlah_data_grafik], y_BULAN_test[:jumlah_data_grafik])\n",
        "plt.scatter(data_x[:jumlah_data_grafik], y_BULAN_pred[:jumlah_data_grafik], color='red')\n",
        "\n",
        "# plt.scatter(y_pred, y_test)\n",
        "\n",
        "plt.show()"
      ],
      "metadata": {
        "id": "0IdfRD-BVGfN"
      },
      "execution_count": null,
      "outputs": []
    }
  ]
}