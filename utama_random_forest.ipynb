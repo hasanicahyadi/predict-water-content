{
  "cells": [
    {
      "cell_type": "markdown",
      "metadata": {
        "id": "LeamvpPVXuS_"
      },
      "source": [
        "# Random Forest Regression"
      ]
    },
    {
      "cell_type": "markdown",
      "metadata": {
        "id": "O2wvZ7SKXzVC"
      },
      "source": [
        "## Importing the libraries"
      ]
    },
    {
      "cell_type": "code",
      "execution_count": null,
      "metadata": {
        "id": "PVmESEFZX4Ig"
      },
      "outputs": [],
      "source": [
        "import numpy as np\n",
        "import matplotlib.pyplot as plt\n",
        "import pandas as pd"
      ]
    },
    {
      "cell_type": "markdown",
      "metadata": {
        "id": "zgbK_F8-X7em"
      },
      "source": [
        "## Importing the dataset"
      ]
    },
    {
      "cell_type": "code",
      "execution_count": null,
      "metadata": {
        "id": "xfoa8OSORfHQ"
      },
      "outputs": [],
      "source": [
        "# df = pd.read_csv('UTAMA-NO-IMPUTATION-AGUST-SEPT-OKT.csv', encoding='unicode_escape')\n",
        "df = pd.read_csv('UTAMA-IMPUTATION-AGUST-SEPT-OKT.csv', encoding='unicode_escape')\n",
        "\n",
        "X = df.iloc[:, :-1].values\n",
        "y = df.iloc[:, -1].values"
      ]
    },
    {
      "cell_type": "code",
      "source": [
        "# df_BULAN = pd.read_csv('UTAMA-NO-IMPUTATION-NOV.csv', encoding='unicode_escape')\n",
        "# df_BULAN = pd.read_csv('UTAMA-NO-IMPUTATION-DELETION-NOV.csv', encoding='unicode_escape')\n",
        "df_BULAN = pd.read_csv('UTAMA-IMPUTATION-NOV.csv', encoding='unicode_escape')"
      ],
      "metadata": {
        "id": "UhGiQ4oLsb8v"
      },
      "execution_count": null,
      "outputs": []
    },
    {
      "cell_type": "markdown",
      "metadata": {
        "id": "ptNjcy7bOBlD"
      },
      "source": [
        "## Splitting the dataset into the Training set and Test set"
      ]
    },
    {
      "cell_type": "code",
      "execution_count": null,
      "metadata": {
        "id": "C7NdofoCOFQF"
      },
      "outputs": [],
      "source": [
        "from sklearn.model_selection import train_test_split\n",
        "X_train, X_test, y_train, y_test = train_test_split(X, y, test_size = 0.2, random_state = 0)"
      ]
    },
    {
      "cell_type": "markdown",
      "metadata": {
        "id": "Q-p-3OU_HriQ"
      },
      "source": [
        "##Imputasi"
      ]
    },
    {
      "cell_type": "markdown",
      "metadata": {
        "id": "v4S2fyIBYDcu"
      },
      "source": [
        "## Training the Random Forest Regression model on the whole dataset"
      ]
    },
    {
      "cell_type": "code",
      "source": [
        "criterions = [\"squared_error\", \"friedman_mse\", \"absolute_error\"]\n",
        "maxDepths = [i for i in range(1,20+1)]\n",
        "nEstimators = [i for i in range(1,50+1)]"
      ],
      "metadata": {
        "id": "SWVAhctQglBh"
      },
      "execution_count": null,
      "outputs": []
    },
    {
      "cell_type": "code",
      "source": [
        "from sklearn.ensemble import RandomForestRegressor\n",
        "from sklearn.metrics import r2_score\n",
        "bestR2 = 0\n",
        "\n",
        "print(\"criterion,max_depth,n_estimators\")\n",
        "\n",
        "for criterionFunction in criterions:\n",
        "  for maxDepth in maxDepths:\n",
        "    for nEstimator in nEstimators:\n",
        "      regressor = RandomForestRegressor(criterion = criterionFunction, max_depth=maxDepth, n_estimators = nEstimator)\n",
        "      regressor.fit(X_train, y_train)\n",
        "      y_pred = regressor.predict(X_test)\n",
        "      nowR2 = r2_score(y_test, y_pred)\n",
        "\n",
        "      print()\n",
        "      if nowR2 > bestR2:\n",
        "        bestR2 = nowR2\n",
        "        bestCriterion = criterionFunction\n",
        "        bestMaxDepth = maxDepth\n",
        "        bestN = nEstimator\n",
        "\n",
        "print(\"------------------------\")\n",
        "print(bestR2)\n",
        "print(bestCriterion)\n",
        "print(bestMaxDepth)\n",
        "print(bestN)\n",
        "\n"
      ],
      "metadata": {
        "colab": {
          "base_uri": "https://localhost:8080/"
        },
        "id": "E9rNUCU9g_8H",
        "outputId": "4859487c-0b74-4553-9678-5b454ceb6999"
      },
      "execution_count": null,
      "outputs": [
        {
          "output_type": "stream",
          "name": "stdout",
          "text": [
            "0.940634665339044\n",
            "absolute_error\n",
            "5\n",
            "6\n"
          ]
        }
      ]
    },
    {
      "cell_type": "markdown",
      "metadata": {
        "id": "DM_jh0frOPKE"
      },
      "source": [
        "## Predicting the Test set results"
      ]
    },
    {
      "cell_type": "code",
      "execution_count": null,
      "metadata": {
        "id": "JGa9ZfM4OTNw",
        "colab": {
          "base_uri": "https://localhost:8080/"
        },
        "outputId": "0b87597e-b854-4a2e-e367-813d0ed1f132"
      },
      "outputs": [
        {
          "output_type": "execute_result",
          "data": {
            "text/plain": [
              "0.9417423032823768"
            ]
          },
          "metadata": {},
          "execution_count": 27
        }
      ],
      "source": [
        "regressor = RandomForestRegressor(criterion = \"absolute_error\", max_depth=5, n_estimators = 6)\n",
        "regressor.fit(X_train, y_train)\n",
        "y_pred = regressor.predict(X_test)\n",
        "\n",
        "# r2_score(y_test, y_pred)"
      ]
    },
    {
      "cell_type": "code",
      "source": [
        "from sklearn.metrics import mean_absolute_error\n",
        "from sklearn.metrics import mean_squared_error\n",
        "\n",
        "print(\"R2 = \", r2_score(y_test, y_pred))\n",
        "print(\"RMSE = \", mean_squared_error(y_test, y_pred, squared=False) )\n",
        "print(\"MSE = \", mean_squared_error(y_test, y_pred) )\n",
        "print(\"MAE = \", mean_absolute_error(y_test, y_pred) )"
      ],
      "metadata": {
        "colab": {
          "base_uri": "https://localhost:8080/"
        },
        "id": "jOZ-GrBtqaeS",
        "outputId": "54d4eecc-dd1e-423b-e0ef-775e82dad56d"
      },
      "execution_count": null,
      "outputs": [
        {
          "output_type": "stream",
          "name": "stdout",
          "text": [
            "R2 =  0.9417423032823768\n",
            "RMSE =  1.8467438601304762\n",
            "MSE =  3.410462884929612\n",
            "MAE =  0.7498661387631973\n"
          ]
        }
      ]
    },
    {
      "cell_type": "markdown",
      "metadata": {
        "id": "O9n7dx8uArT0"
      },
      "source": [
        "## Grafik"
      ]
    },
    {
      "cell_type": "code",
      "execution_count": null,
      "metadata": {
        "id": "byqfTdTZAtov"
      },
      "outputs": [],
      "source": [
        "data_x = list(range(1,len(y_test)+1))\n",
        "import matplotlib.pyplot as plt\n",
        "# jumlah_data_grafik = 150\n",
        "# plt.figure(figsize=(12, 3))\n",
        "\n",
        "jumlah_data_grafik = len(y_test)\n",
        "plt.figure(figsize=(12, 3))\n",
        "\n",
        "plt.axis((0,len(y_test), 0,100))\n",
        "plt.xlabel(\"Data test ke-n\")\n",
        "plt.ylabel(\"Kadar air tanah (%)\")\n",
        "\n",
        "plt.plot(data_x[:jumlah_data_grafik], y_test[:jumlah_data_grafik])\n",
        "plt.scatter(data_x[:jumlah_data_grafik], y_pred[:jumlah_data_grafik], color='red')\n",
        "\n",
        "# plt.show()\n"
      ]
    },
    {
      "cell_type": "code",
      "execution_count": null,
      "metadata": {
        "colab": {
          "base_uri": "https://localhost:8080/"
        },
        "id": "h64xPcmjQ49-",
        "outputId": "5e54f177-b0ab-4381-bee8-e2b7ce0dbe58"
      },
      "outputs": [
        {
          "output_type": "stream",
          "name": "stdout",
          "text": [
            "442\n"
          ]
        }
      ],
      "source": [
        "print(len(y_test))"
      ]
    },
    {
      "cell_type": "code",
      "execution_count": null,
      "metadata": {
        "id": "4BfyGC0fj9Hv"
      },
      "outputs": [],
      "source": [
        "X_BULAN_test = df_BULAN.iloc[:, :-1].values\n",
        "y_BULAN_test = df_BULAN.iloc[:, -1].values\n",
        "\n",
        "# print(X_BULAN_test)\n",
        "# print(y_BULAN_test)"
      ]
    },
    {
      "cell_type": "code",
      "source": [
        "y_BULAN_pred = regressor.predict(X_BULAN_test)\n",
        "\n",
        "print(\"R2 = \", r2_score(y_BULAN_test, y_BULAN_pred))\n",
        "print(\"RMSE = \", mean_squared_error(y_BULAN_test, y_BULAN_pred, squared=False) )\n",
        "print(\"MSE = \", mean_squared_error(y_BULAN_test, y_BULAN_pred) )\n",
        "print(\"MAE = \", mean_absolute_error(y_BULAN_test, y_BULAN_pred) )"
      ],
      "metadata": {
        "id": "UB00ZlAKkzVG",
        "colab": {
          "base_uri": "https://localhost:8080/"
        },
        "outputId": "75d14f35-6493-4f01-ad2f-238a25e94238"
      },
      "execution_count": null,
      "outputs": [
        {
          "output_type": "stream",
          "name": "stdout",
          "text": [
            "R2 =  0.9517465327545425\n",
            "RMSE =  2.1498853631421317\n",
            "MSE =  4.6220070746527755\n",
            "MAE =  0.9362349537037034\n"
          ]
        }
      ]
    },
    {
      "cell_type": "code",
      "source": [
        "data_x = list(range(1,len(y_BULAN_test)+1))\n",
        "import matplotlib.pyplot as plt\n",
        "jumlah_data_grafik = len(y_BULAN_test)\n",
        "# plt.figure(figsize=(12, 3))\n",
        "plt.figure(figsize=(12, 3))\n",
        "\n",
        "plt.axis((0,len(y_BULAN_test), 0,80))\n",
        "plt.xlabel(\"Data test ke-n\")\n",
        "plt.ylabel(\"Kadar air tanah (%)\")\n",
        "\n",
        "plt.plot(data_x[:jumlah_data_grafik], y_BULAN_test[:jumlah_data_grafik])\n",
        "plt.plot(data_x[:jumlah_data_grafik], y_BULAN_pred[:jumlah_data_grafik], color='red')\n",
        "\n",
        "# plt.scatter(y_pred, y_test)\n",
        "\n",
        "plt.show()"
      ],
      "metadata": {
        "colab": {
          "base_uri": "https://localhost:8080/",
          "height": 316
        },
        "id": "cBvsMsOQlVMp",
        "outputId": "c5d4040e-4ca2-4272-98eb-486733cf5416"
      },
      "execution_count": null,
      "outputs": [
        {
          "output_type": "display_data",
          "data": {
            "text/plain": [
              "<Figure size 1200x300 with 1 Axes>"
            ],
            "image/png": "[encoded data removed]"
          },
          "metadata": {}
        }
      ]
    }
  ],
  "metadata": {
    "colab": {
      "provenance": []
    },
    "kernelspec": {
      "display_name": "Python 3",
      "name": "python3"
    }
  },
  "nbformat": 4,
  "nbformat_minor": 0
}