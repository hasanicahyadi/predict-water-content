{
  "nbformat": 4,
  "nbformat_minor": 0,
  "metadata": {
    "colab": {
      "provenance": []
    },
    "kernelspec": {
      "name": "python3",
      "display_name": "Python 3"
    }
  },
  "cells": [
    {
      "cell_type": "markdown",
      "metadata": {
        "id": "m3PAEPRDRLA3"
      },
      "source": [
        "# Support Vector Regression (SVR)"
      ]
    },
    {
      "cell_type": "markdown",
      "metadata": {
        "id": "0VCUAVIjRdzZ"
      },
      "source": [
        "## Importing the libraries"
      ]
    },
    {
      "cell_type": "code",
      "metadata": {
        "id": "56oRF-QfSDzC"
      },
      "source": [
        "import numpy as np\n",
        "import matplotlib.pyplot as plt\n",
        "import pandas as pd"
      ],
      "execution_count": null,
      "outputs": []
    },
    {
      "cell_type": "markdown",
      "metadata": {
        "id": "fXVXoFWtSF4_"
      },
      "source": [
        "## Importing the dataset"
      ]
    },
    {
      "cell_type": "code",
      "metadata": {
        "id": "xfoa8OSORfHQ"
      },
      "source": [
        "# df = pd.read_csv('UTAMA-NO-IMPUTATION-AGUST-SEPT-OKT.csv', encoding='unicode_escape')\n",
        "df = pd.read_csv('UTAMA-IMPUTATION-AGUST-SEPT-OKT.csv', encoding='unicode_escape')\n",
        "# df = df.loc[(df!=0).any(axis=1)]\n",
        "\n",
        "X = df.iloc[:, :-1].values\n",
        "y = df.iloc[:, -1].values"
      ],
      "execution_count": null,
      "outputs": []
    },
    {
      "cell_type": "code",
      "metadata": {
        "id": "_8Ny1GfPiV3m"
      },
      "source": [
        "y = y.reshape(len(y),1)"
      ],
      "execution_count": null,
      "outputs": []
    },
    {
      "cell_type": "code",
      "source": [
        "# df_BULAN = pd.read_csv('UTAMA-NO-IMPUTATION-NOV.csv', encoding='unicode_escape')\n",
        "# df_BULAN = pd.read_csv('UTAMA-NO-IMPUTATION-DELETION-NOV.csv', encoding='unicode_escape')\n",
        "df_BULAN = pd.read_csv('UTAMA-IMPUTATION-NOV.csv', encoding='unicode_escape')\n",
        "X_BULAN_test = df_BULAN.iloc[:, :-1].values\n",
        "y_BULAN_test = df_BULAN.iloc[:, -1].values\n",
        "\n",
        "y_BULAN_test = y_BULAN_test.reshape(len(y_BULAN_test),1)\n",
        "# print(y)"
      ],
      "metadata": {
        "id": "e7HibqtywMGE"
      },
      "execution_count": null,
      "outputs": []
    },
    {
      "cell_type": "markdown",
      "metadata": {
        "id": "6Vk3nNlrCVCN"
      },
      "source": [
        "## Splitting the dataset into the Training set and Test set"
      ]
    },
    {
      "cell_type": "code",
      "metadata": {
        "id": "x_fXqrziCV3_"
      },
      "source": [
        "from sklearn.model_selection import train_test_split\n",
        "X_train, X_test, y_train, y_test = train_test_split(X, y, test_size = 0.2, random_state = 0)"
      ],
      "execution_count": null,
      "outputs": []
    },
    {
      "cell_type": "markdown",
      "source": [
        "##Imputasi"
      ],
      "metadata": {
        "id": "Q-p-3OU_HriQ"
      }
    },
    {
      "cell_type": "markdown",
      "metadata": {
        "id": "YS8FeLHYS-nI"
      },
      "source": [
        "## Feature Scaling"
      ]
    },
    {
      "cell_type": "code",
      "metadata": {
        "id": "PGeAlD1HTDI1"
      },
      "source": [
        "from sklearn.preprocessing import StandardScaler\n",
        "sc_X = StandardScaler()\n",
        "sc_y = StandardScaler()\n",
        "X_train = sc_X.fit_transform(X_train)\n",
        "y_train = sc_y.fit_transform(y_train)"
      ],
      "execution_count": null,
      "outputs": []
    },
    {
      "cell_type": "markdown",
      "metadata": {
        "id": "eiU6D2QFRjxY"
      },
      "source": [
        "## Training the SVR model on the Training set"
      ]
    },
    {
      "cell_type": "code",
      "source": [
        "kernels = [\"rbf\", \"sigmoid\", \"linear\"]\n",
        "Cvalues = [0.1, 1, 10, 100, 1000]\n",
        "gammaValues = [0.005, 0.01, 1, 1.5]\n",
        "bestR2 = 0"
      ],
      "metadata": {
        "id": "WrhhbzbInFf8"
      },
      "execution_count": null,
      "outputs": []
    },
    {
      "cell_type": "code",
      "source": [
        "from sklearn.svm import SVR\n",
        "from sklearn.metrics import r2_score\n",
        "\n",
        "import warnings\n",
        "from sklearn.exceptions import DataConversionWarning\n",
        "warnings.filterwarnings(action='ignore', category=DataConversionWarning)\n",
        "\n",
        "\n",
        "for kernelFunction in kernels:\n",
        "  for Cvalue in Cvalues:\n",
        "    for gammaValue in gammaValues:\n",
        "      regressor = SVR(kernel = kernelFunction, gamma = gammaValue, C = Cvalue)\n",
        "      regressor.fit(X_train, y_train)\n",
        "\n",
        "      y_pred = sc_y.inverse_transform(regressor.predict(sc_X.transform(X_test)).reshape(-1,1))\n",
        "\n",
        "      nowR2 = r2_score(y_test, y_pred)\n",
        "\n",
        "      print(f\"kernel = {kernelFunction} , C = {Cvalue} , Gamma = {gammaValue} , R2 = {nowR2}\")\n",
        "\n",
        "      if nowR2 > bestR2:\n",
        "        bestR2 = nowR2\n",
        "        bestKernels = kernelFunction\n",
        "        bestCvalue = Cvalue\n",
        "        bestGammaValue = gammaValue\n",
        "\n",
        "print(f\"Best -> R2 = {bestR2} , kernel = {bestKernels} , C = {bestCvalue} , Gamma = {bestGammaValue}\")\n",
        "\n"
      ],
      "metadata": {
        "colab": {
          "base_uri": "https://localhost:8080/"
        },
        "id": "ZDC4TCkCoFa3",
        "outputId": "0c00c815-5053-416f-ae4f-543335d8bf6e"
      },
      "execution_count": null,
      "outputs": [
        {
          "output_type": "stream",
          "name": "stdout",
          "text": [
            "kernel = rbf , C = 0.1 , Gamma = 0.005 , R2 = 0.9066621219678406\n",
            "kernel = rbf , C = 0.1 , Gamma = 0.01 , R2 = 0.9338973687763202\n",
            "kernel = rbf , C = 0.1 , Gamma = 1 , R2 = 0.8066532341417842\n",
            "kernel = rbf , C = 0.1 , Gamma = 1.5 , R2 = 0.737040134356378\n",
            "kernel = rbf , C = 1 , Gamma = 0.005 , R2 = 0.9393554669482277\n",
            "kernel = rbf , C = 1 , Gamma = 0.01 , R2 = 0.9398391261168165\n",
            "kernel = rbf , C = 1 , Gamma = 1 , R2 = 0.928329170447248\n",
            "kernel = rbf , C = 1 , Gamma = 1.5 , R2 = 0.9160469588084986\n",
            "kernel = rbf , C = 10 , Gamma = 0.005 , R2 = 0.9386705031390759\n",
            "kernel = rbf , C = 10 , Gamma = 0.01 , R2 = 0.9386673361796635\n",
            "kernel = rbf , C = 10 , Gamma = 1 , R2 = 0.9292153915033904\n",
            "kernel = rbf , C = 10 , Gamma = 1.5 , R2 = 0.9168796827414503\n",
            "kernel = rbf , C = 100 , Gamma = 0.005 , R2 = 0.9379043182168745\n",
            "kernel = rbf , C = 100 , Gamma = 0.01 , R2 = 0.9374905665438762\n",
            "kernel = rbf , C = 100 , Gamma = 1 , R2 = 0.9042245038286165\n",
            "kernel = rbf , C = 100 , Gamma = 1.5 , R2 = 0.8737038541590808\n",
            "kernel = rbf , C = 1000 , Gamma = 0.005 , R2 = 0.937338343852529\n",
            "kernel = rbf , C = 1000 , Gamma = 0.01 , R2 = 0.9371572649225072\n",
            "kernel = rbf , C = 1000 , Gamma = 1 , R2 = 0.7281718657148224\n",
            "kernel = rbf , C = 1000 , Gamma = 1.5 , R2 = 0.7866003137371803\n",
            "kernel = sigmoid , C = 0.1 , Gamma = 0.005 , R2 = 0.7292486048340104\n",
            "kernel = sigmoid , C = 0.1 , Gamma = 0.01 , R2 = 0.9125015675663176\n",
            "kernel = sigmoid , C = 0.1 , Gamma = 1 , R2 = -213.662729485873\n",
            "kernel = sigmoid , C = 0.1 , Gamma = 1.5 , R2 = -318.0311237609793\n",
            "kernel = sigmoid , C = 1 , Gamma = 0.005 , R2 = 0.9380898978332624\n",
            "kernel = sigmoid , C = 1 , Gamma = 0.01 , R2 = 0.9385859646425334\n",
            "kernel = sigmoid , C = 1 , Gamma = 1 , R2 = -21487.659234986677\n",
            "kernel = sigmoid , C = 1 , Gamma = 1.5 , R2 = -31893.92248250101\n",
            "kernel = sigmoid , C = 10 , Gamma = 0.005 , R2 = 0.9384581498490213\n",
            "kernel = sigmoid , C = 10 , Gamma = 0.01 , R2 = 0.938210279881451\n",
            "kernel = sigmoid , C = 10 , Gamma = 1 , R2 = -2152550.6409332585\n",
            "kernel = sigmoid , C = 10 , Gamma = 1.5 , R2 = -3190278.876053675\n",
            "kernel = sigmoid , C = 100 , Gamma = 0.005 , R2 = 0.9384191784487461\n",
            "kernel = sigmoid , C = 100 , Gamma = 0.01 , R2 = 0.1330145839267458\n",
            "kernel = sigmoid , C = 100 , Gamma = 1 , R2 = -215008292.60445362\n",
            "kernel = sigmoid , C = 100 , Gamma = 1.5 , R2 = -319019159.7478954\n",
            "kernel = sigmoid , C = 1000 , Gamma = 0.005 , R2 = -0.4776928243499916\n",
            "kernel = sigmoid , C = 1000 , Gamma = 0.01 , R2 = -107.6523343466253\n",
            "kernel = sigmoid , C = 1000 , Gamma = 1 , R2 = -21524446848.49819\n",
            "kernel = sigmoid , C = 1000 , Gamma = 1.5 , R2 = -31901828779.79832\n",
            "kernel = linear , C = 0.1 , Gamma = 0.005 , R2 = 0.9384388403527976\n",
            "kernel = linear , C = 0.1 , Gamma = 0.01 , R2 = 0.9384388403527976\n",
            "kernel = linear , C = 0.1 , Gamma = 1 , R2 = 0.9384388403527976\n",
            "kernel = linear , C = 0.1 , Gamma = 1.5 , R2 = 0.9384388403527976\n",
            "kernel = linear , C = 1 , Gamma = 0.005 , R2 = 0.9384373154265628\n",
            "kernel = linear , C = 1 , Gamma = 0.01 , R2 = 0.9384373154265628\n",
            "kernel = linear , C = 1 , Gamma = 1 , R2 = 0.9384373154265628\n",
            "kernel = linear , C = 1 , Gamma = 1.5 , R2 = 0.9384373154265628\n",
            "kernel = linear , C = 10 , Gamma = 0.005 , R2 = 0.9384371482110164\n",
            "kernel = linear , C = 10 , Gamma = 0.01 , R2 = 0.9384371482110164\n",
            "kernel = linear , C = 10 , Gamma = 1 , R2 = 0.9384371482110164\n",
            "kernel = linear , C = 10 , Gamma = 1.5 , R2 = 0.9384371482110164\n",
            "kernel = linear , C = 100 , Gamma = 0.005 , R2 = 0.9384284167869716\n",
            "kernel = linear , C = 100 , Gamma = 0.01 , R2 = 0.9384284167869716\n",
            "kernel = linear , C = 100 , Gamma = 1 , R2 = 0.9384284167869716\n",
            "kernel = linear , C = 100 , Gamma = 1.5 , R2 = 0.9384284167869716\n",
            "kernel = linear , C = 1000 , Gamma = 0.005 , R2 = 0.9384467553232069\n",
            "kernel = linear , C = 1000 , Gamma = 0.01 , R2 = 0.9384467553232069\n",
            "kernel = linear , C = 1000 , Gamma = 1 , R2 = 0.9384467553232069\n",
            "kernel = linear , C = 1000 , Gamma = 1.5 , R2 = 0.9384467553232069\n",
            "Best -> R2 = 0.9398391261168165 , kernel = rbf , C = 1 , Gamma = 0.01\n"
          ]
        }
      ]
    },
    {
      "cell_type": "code",
      "source": [
        "regressor = SVR(kernel = \"rbf\", gamma = 0.01, C = 1)\n",
        "regressor.fit(X_train, y_train)\n",
        "\n",
        "y_pred = sc_y.inverse_transform(regressor.predict(sc_X.transform(X_test)).reshape(-1,1))\n",
        "y_BULAN_pred = sc_y.inverse_transform(regressor.predict(sc_X.transform(X_BULAN_test)).reshape(-1,1))\n",
        "\n",
        "# r2_score(y_BULAN_test, y_BULAN_pred)"
      ],
      "metadata": {
        "id": "cqNDipAUwKSx"
      },
      "execution_count": null,
      "outputs": []
    },
    {
      "cell_type": "code",
      "source": [
        "from sklearn.metrics import mean_absolute_error\n",
        "from sklearn.metrics import mean_squared_error\n",
        "\n",
        "print(\"R2 = \", r2_score(y_test, y_pred))\n",
        "print(\"RMSE = \", mean_squared_error(y_test, y_pred, squared=False) )\n",
        "print(\"MSE = \", mean_squared_error(y_test, y_pred) )\n",
        "print(\"MAE = \", mean_absolute_error(y_test, y_pred) )"
      ],
      "metadata": {
        "colab": {
          "base_uri": "https://localhost:8080/"
        },
        "id": "S7LZxMpeyDVt",
        "outputId": "bef7373b-43ab-40d3-a5dd-beb8d6154324"
      },
      "execution_count": null,
      "outputs": [
        {
          "output_type": "stream",
          "name": "stdout",
          "text": [
            "R2 =  0.9398391261168165\n",
            "RMSE =  1.8766663924938038\n",
            "MSE =  3.5218767487157074\n",
            "MAE =  0.7456799599713063\n"
          ]
        }
      ]
    },
    {
      "cell_type": "code",
      "source": [
        "print(\"R2 = \", r2_score(y_BULAN_test, y_BULAN_pred))\n",
        "print(\"RMSE = \", mean_squared_error(y_BULAN_test, y_BULAN_pred, squared=False) )\n",
        "print(\"MSE = \", mean_squared_error(y_BULAN_test, y_BULAN_pred) )\n",
        "print(\"MAE = \", mean_absolute_error(y_BULAN_test, y_BULAN_pred) )"
      ],
      "metadata": {
        "colab": {
          "base_uri": "https://localhost:8080/"
        },
        "id": "9DHIJ85PySDm",
        "outputId": "391465f5-e3f2-4922-cca6-08b0f90541c3"
      },
      "execution_count": null,
      "outputs": [
        {
          "output_type": "stream",
          "name": "stdout",
          "text": [
            "R2 =  0.9558801680830611\n",
            "RMSE =  2.055738952682684\n",
            "MSE =  4.2260626415769\n",
            "MAE =  0.7837254312144961\n"
          ]
        }
      ]
    },
    {
      "cell_type": "code",
      "source": [
        "data_x = list(range(1,len(y_BULAN_test)+1))\n",
        "import matplotlib.pyplot as plt\n",
        "jumlah_data_grafik = len(y_BULAN_test)\n",
        "# jumlah_data_grafik = len(y_test)\n",
        "plt.figure(figsize=(12, 3))\n",
        "\n",
        "plt.axis((0,len(y_BULAN_test), 0,80))\n",
        "plt.xlabel(\"Data test ke-n\")\n",
        "plt.ylabel(\"Kadar air tanah (%)\")\n",
        "\n",
        "plt.plot(data_x[:jumlah_data_grafik], y_BULAN_test[:jumlah_data_grafik])\n",
        "plt.scatter(data_x[:jumlah_data_grafik], y_BULAN_pred[:jumlah_data_grafik], color='red')\n",
        "\n",
        "# plt.scatter(y_pred, y_test)\n",
        "\n",
        "plt.show()"
      ],
      "metadata": {
        "colab": {
          "base_uri": "https://localhost:8080/",
          "height": 316
        },
        "id": "e5iPXN6nxoBz",
        "outputId": "22f987ef-09ff-48ec-f632-d193952b1f36"
      },
      "execution_count": null,
      "outputs": [
        {
          "output_type": "display_data",
          "data": {
            "text/plain": [
              "<Figure size 1200x300 with 1 Axes>"
            ],
            "image/png": "[encoded data removed]"
          },
          "metadata": {}
        }
      ]
    }
  ]
}